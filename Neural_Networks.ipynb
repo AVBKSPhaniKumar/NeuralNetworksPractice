{
 "cells": [
  {
   "cell_type": "markdown",
   "id": "fb8c0ec9",
   "metadata": {},
   "source": [
    "# Single Neuron"
   ]
  },
  {
   "cell_type": "code",
   "execution_count": 1,
   "id": "bcae1e27",
   "metadata": {},
   "outputs": [
    {
     "name": "stdout",
     "output_type": "stream",
     "text": [
      "2.443\n"
     ]
    }
   ],
   "source": [
    "# single neuron\n",
    "\n",
    "weights = [0.04,0.023,0.015] # assuming 3 inputs are coming to the neuron\n",
    "inputs  = [5,6,7] # these are the inputs to that neuron\n",
    "bias = 2\n",
    "\n",
    "output = sum([weights[i]*inputs[i] for i in range(len(weights))])+bias # this is the output from that neuron\n",
    "print(output)"
   ]
  },
  {
   "cell_type": "code",
   "execution_count": 2,
   "id": "7c924fc9",
   "metadata": {},
   "outputs": [
    {
     "name": "stdout",
     "output_type": "stream",
     "text": [
      "2.443\n"
     ]
    }
   ],
   "source": [
    "weights = [0.04,0.023,0.015] # assuming 3 inputs are coming to the neuron\n",
    "inputs  = [5,6,7] # these are the inputs to that neuron\n",
    "bias = 2\n",
    "\n",
    "output = weights[0]*inputs[0]+weights[1]*inputs[1]+weights[2]*inputs[2]+bias # this is the output from that neuron\n",
    "print(output)"
   ]
  },
  {
   "cell_type": "markdown",
   "id": "6fc2ea04",
   "metadata": {},
   "source": [
    "# Multiple Neurons"
   ]
  },
  {
   "cell_type": "code",
   "execution_count": 3,
   "id": "08e84a2d",
   "metadata": {},
   "outputs": [
    {
     "name": "stdout",
     "output_type": "stream",
     "text": [
      "2.443 1.56 2.838 [2.443, 1.56, 2.838]\n"
     ]
    }
   ],
   "source": [
    "# assuming 3 neurons in the layer we will get 3 outputs from that layer one from each layer\n",
    "\n",
    "weights1 = [0.04,0.023,0.015] # assuming 3 inputs are coming to the neuron\n",
    "weights2 = [0.024,0.05,0.02]\n",
    "weights3 = [0.05,0.07,0.024]\n",
    "inputs  = [5,6,7] # these are the inputs to that neuron\n",
    "bias1 = 2\n",
    "bias2 = 1\n",
    "bias3 = 2\n",
    "\n",
    "\n",
    "output1 = weights1[0]*inputs[0]+weights1[1]*inputs[1]+weights1[2]*inputs[2]+bias1 # this is the output from the neuron1\n",
    "output2 = weights2[0]*inputs[0]+weights2[1]*inputs[1]+weights2[2]*inputs[2]+bias2 # output from neuron2\n",
    "output3 = weights3[0]*inputs[0]+weights3[1]*inputs[1]+weights3[2]*inputs[2]+bias3 # output from neuron3\n",
    "\n",
    "output = [weights1[0]*inputs[0]+weights1[1]*inputs[1]+weights1[2]*inputs[2]+bias1, weights2[0]*inputs[0]+weights2[1]*inputs[1]+weights2[2]*inputs[2]+bias2,\n",
    "        weights3[0]*inputs[0]+weights3[1]*inputs[1]+weights3[2]*inputs[2]+bias3]\n",
    "print(output1,output2,output3, output)"
   ]
  },
  {
   "cell_type": "code",
   "execution_count": 8,
   "id": "9ee29392",
   "metadata": {},
   "outputs": [
    {
     "data": {
      "text/plain": [
       "[2.1310000000000002, 1.184, 2.262]"
      ]
     },
     "execution_count": 8,
     "metadata": {},
     "output_type": "execute_result"
    }
   ],
   "source": [
    "\n",
    "#method 2\n",
    "\n",
    "weights = [weights1,weights2,weights3]\n",
    "biases = [bias1,bias2,bias3]\n",
    "inputs  = [1,2,3]\n",
    "\n",
    "outputs = []\n",
    "for wt,bias in zip(weights,biases):\n",
    "    neuron_output = 0 \n",
    "    for w,i in zip(wt,inputs):\n",
    "        neuron_output+= w*i\n",
    "        \n",
    "    neuron_output+=bias\n",
    "    count+=1\n",
    "    outputs.append(neuron_output)\n",
    "    \n",
    "outputs"
   ]
  },
  {
   "cell_type": "markdown",
   "id": "4d80ccc7",
   "metadata": {},
   "source": [
    "#  With Numpy"
   ]
  },
  {
   "cell_type": "code",
   "execution_count": 6,
   "id": "e861a8bd",
   "metadata": {},
   "outputs": [],
   "source": [
    "import numpy as np"
   ]
  },
  {
   "cell_type": "code",
   "execution_count": null,
   "id": "3540a7e9",
   "metadata": {},
   "outputs": [],
   "source": [
    "# Here y = WX+B acts similar to the linear equation. W varies slope varies, B varies interection on the axes varies which is similar to offset\n"
   ]
  },
  {
   "cell_type": "code",
   "execution_count": 9,
   "id": "7a1325b1",
   "metadata": {},
   "outputs": [
    {
     "data": {
      "text/plain": [
       "array([2.131, 1.184, 2.262])"
      ]
     },
     "execution_count": 9,
     "metadata": {},
     "output_type": "execute_result"
    }
   ],
   "source": [
    "outputs = np.dot(weights,inputs)+biases\n",
    "outputs"
   ]
  },
  {
   "cell_type": "code",
   "execution_count": null,
   "id": "71d1973c",
   "metadata": {},
   "outputs": [],
   "source": []
  }
 ],
 "metadata": {
  "kernelspec": {
   "display_name": "Python 3 (ipykernel)",
   "language": "python",
   "name": "python3"
  },
  "language_info": {
   "codemirror_mode": {
    "name": "ipython",
    "version": 3
   },
   "file_extension": ".py",
   "mimetype": "text/x-python",
   "name": "python",
   "nbconvert_exporter": "python",
   "pygments_lexer": "ipython3",
   "version": "3.12.3"
  }
 },
 "nbformat": 4,
 "nbformat_minor": 5
}
